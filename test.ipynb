{
 "cells": [
  {
   "cell_type": "code",
   "execution_count": null,
   "id": "f83c4eec",
   "metadata": {},
   "outputs": [
    {
     "name": "stdout",
     "output_type": "stream",
     "text": [
      "Available columns:\n",
      "['timestamp', 'machine_id', 'product_code', 'operator_id', 'shift', 'material_batch', 'ambient_temp_c', 'humidity_pct', 'setpoint_temp_c', 'setpoint_pressure_bar', 'spindle_speed_rpm', 'vibration_mm_s', 'torque_nm', 'energy_kwh', 'target_thickness_mm', 'measured_thickness_mm', 'quality_score', 'defect']\n"
     ]
    },
    {
     "ename": "KeyError",
     "evalue": "\"Column 'department' not found. Please change 'cluster_col' to an existing column.\"",
     "output_type": "error",
     "traceback": [
      "\u001b[31m---------------------------------------------------------------------------\u001b[39m",
      "\u001b[31mKeyError\u001b[39m                                  Traceback (most recent call last)",
      "\u001b[36mCell\u001b[39m\u001b[36m \u001b[39m\u001b[32mIn[6]\u001b[39m\u001b[32m, line 20\u001b[39m\n\u001b[32m     18\u001b[39m \u001b[38;5;66;03m# Step 4: Check if the column exists\u001b[39;00m\n\u001b[32m     19\u001b[39m \u001b[38;5;28;01mif\u001b[39;00m cluster_col \u001b[38;5;129;01mnot\u001b[39;00m \u001b[38;5;129;01min\u001b[39;00m df.columns:\n\u001b[32m---> \u001b[39m\u001b[32m20\u001b[39m     \u001b[38;5;28;01mraise\u001b[39;00m \u001b[38;5;167;01mKeyError\u001b[39;00m(\u001b[33mf\u001b[39m\u001b[33m\"\u001b[39m\u001b[33mColumn \u001b[39m\u001b[33m'\u001b[39m\u001b[38;5;132;01m{\u001b[39;00mcluster_col\u001b[38;5;132;01m}\u001b[39;00m\u001b[33m'\u001b[39m\u001b[33m not found. Please change \u001b[39m\u001b[33m'\u001b[39m\u001b[33mcluster_col\u001b[39m\u001b[33m'\u001b[39m\u001b[33m to an existing column.\u001b[39m\u001b[33m\"\u001b[39m)\n\u001b[32m     22\u001b[39m \u001b[38;5;66;03m# Step 5: Identify unique clusters\u001b[39;00m\n\u001b[32m     23\u001b[39m clusters = df[cluster_col].unique()\n",
      "\u001b[31mKeyError\u001b[39m: \"Column 'department' not found. Please change 'cluster_col' to an existing column.\""
     ]
    }
   ],
   "source": [
    "import pandas as pd\n",
    "\n",
    "# Step 1: Load the dataset\n",
    "df = pd.read_csv(\"manufacturing_dataset_1000.csv\")\n",
    "\n",
    "# Step 2: Normalize column names\n",
    "df.columns = df.columns.str.strip().str.lower().str.replace(\" \", \"_\")\n",
    "\n",
    "# Step 3: Display column names and first few rows\n",
    "print(\"📋 Available columns in your dataset:\")\n",
    "print(df.columns.tolist())\n",
    "print(\"\\n🔹 Data preview:\")\n",
    "print(df.head(3).to_string())\n",
    "\n",
    "# Step 4: Automatically detect a suitable cluster column (categorical or few unique values)\n",
    "categorical_cols = [col for col in df.columns if df[col].nunique() < 20 and df[col].dtype == \"object\"]\n",
    "\n",
    "if not categorical_cols:\n",
    "    raise KeyError(\"❌ No suitable categorical column found for cluster sampling. Please choose one manually.\")\n",
    "\n",
    "# Pick the first detected categorical column as the cluster variable\n",
    "cluster_col = categorical_cols[0]\n",
    "print(f\"\\n✅ Using '{cluster_col}' as the cluster column for sampling.\")\n",
    "\n",
    "# Step 5: Identify all clusters\n",
    "clusters = df[cluster_col].unique()\n",
    "print(f\"Found {len(clusters)} unique clusters in '{cluster_col}'.\")\n",
    "\n",
    "# Step 6: Randomly select 3 clusters (or fewer if limited)\n",
    "n_clusters = min(3, len(clusters))\n",
    "sampled_clusters = pd.Series(clusters).sample(n=n_clusters, random_state=42)\n",
    "print(f\"\\n🎯 Selected clusters: {list(sampled_clusters)}\")\n",
    "\n",
    "# Step 7: Take all rows belonging to the sampled clusters\n",
    "cluster_sample = df[df[cluster_col].isin(sampled_clusters)]\n",
    "\n",
    "# Step 8: Save sampled dataset\n",
    "cluster_sample.to_csv(\"cluster_sample.csv\", index=False)\n",
    "print(\"\\n✅ Cluster sample created and saved as 'cluster_sample.csv'\")\n",
    "\n",
    "# Step 9: Visualize using pandas built-in plotting\n",
    "print(\"\\n📊 Displaying cluster distribution plots...\")\n",
    "df[cluster_col].value_counts().plot(kind=\"bar\", title=\"Original Cluster Distribution\")\n",
    "cluster_sample[cluster_col].value_counts().plot(kind=\"bar\", title=\"Sampled Cluster Distribution\")\n"
   ]
  },
  {
   "cell_type": "code",
   "execution_count": null,
   "id": "f5a78501",
   "metadata": {},
   "outputs": [],
   "source": []
  }
 ],
 "metadata": {
  "kernelspec": {
   "display_name": ".venv",
   "language": "python",
   "name": "python3"
  },
  "language_info": {
   "codemirror_mode": {
    "name": "ipython",
    "version": 3
   },
   "file_extension": ".py",
   "mimetype": "text/x-python",
   "name": "python",
   "nbconvert_exporter": "python",
   "pygments_lexer": "ipython3",
   "version": "3.13.7"
  }
 },
 "nbformat": 4,
 "nbformat_minor": 5
}
